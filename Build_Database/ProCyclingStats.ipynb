{
 "cells": [
  {
   "cell_type": "code",
   "execution_count": 223,
   "metadata": {
    "autoscroll": false,
    "collapsed": false,
    "ein.hycell": false,
    "ein.tags": "worksheet-0",
    "slideshow": {
     "slide_type": "-"
    }
   },
   "outputs": [],
   "source": [
    "\n",
    "def find_key_value(string_to_parse, pre_string,\n",
    "                   end_string='\\\"',\n",
    "                   index=0):\n",
    "    i, istring0, istring = 0, 0, 0\n",
    "    while i<=index:\n",
    "        istring0 += istring\n",
    "        istring = string_to_parse[istring0:].find(pre_string)\n",
    "        iend = string_to_parse[istring0+istring+len(pre_string):].find(end_string)\n",
    "        i+=1\n",
    "    print(i)\n",
    "    return string_to_parse[istring0+istring+len(pre_string):istring0+istring+len(pre_string)+iend]"
   ]
  },
  {
   "cell_type": "code",
   "execution_count": 240,
   "metadata": {
    "autoscroll": false,
    "collapsed": false,
    "ein.hycell": false,
    "ein.tags": "worksheet-0",
    "slideshow": {
     "slide_type": "-"
    }
   },
   "outputs": [
    {
     "name": "stdout",
     "output_type": "stream",
     "text": [
      "<td><span class=\"flag es\"></span> <a href=\"rider/ruben-plaza\"><span class=\"uppercase\"> Plaza</span> Rubén</a><span class=\"teammob\">Caisse d'Epargne </span></td>\n",
      " es\n"
     ]
    }
   ],
   "source": []
  },
  {
   "cell_type": "code",
   "execution_count": 447,
   "metadata": {
    "autoscroll": false,
    "collapsed": false,
    "ein.hycell": false,
    "ein.tags": "worksheet-0",
    "slideshow": {
     "slide_type": "-"
    }
   },
   "outputs": [],
   "source": [
    "\n",
    "from bs4 import BeautifulSoup\n",
    "import requests\n",
    "import numpy as np\n",
    "\n",
    "\n",
    "def make_soup(url):\n",
    "    r = requests.get(url)\n",
    "    # results\n",
    "    i0 = r.text.find('<div class=\\\"resultCont \\\"')\n",
    "    results_soup = BeautifulSoup(r.text[i0:], 'html.parser')\n",
    "    # stage details\n",
    "    i0 = r.text.find('<div class=\\\"entry race\\\"')\n",
    "    stage_soup = BeautifulSoup(r.text[i0:i0+500], 'html.parser')\n",
    "    \n",
    "    return results_soup, stage_soup\n",
    "\n",
    "\n",
    "def find_value(string_to_parse, pre_string,\n",
    "                   end_string='\\\"',\n",
    "                   index=0):\n",
    "    i, istring0, istring =0, 0, 0\n",
    "    while i<=index:\n",
    "        istring0 += istring\n",
    "        istring = string_to_parse[istring0:].find(pre_string)\n",
    "        iend = string_to_parse[istring0+istring+len(pre_string):].find(end_string)\n",
    "        i+=1\n",
    "    if istring>=0:\n",
    "        return string_to_parse[istring0+istring+len(pre_string):istring0+istring+len(pre_string)+iend]\n",
    "    else:\n",
    "        return ''\n",
    "\n",
    "def convert_string_to_seconds(time_string):\n",
    "    try:\n",
    "        return np.sum([(60**ii)*float(ss) for ii, ss in enumerate(time_string.split(':')[::-1]) ])\n",
    "    except ValueError:\n",
    "        return 0\n",
    "\n",
    "\n",
    "def compute_time(time_string, prev_time):\n",
    "    if time_string=='-':\n",
    "        return -1\n",
    "    elif prev_time==0:\n",
    "        return convert_string_to_seconds(time_string)\n",
    "    else:\n",
    "        return convert_string_to_seconds(time_string)+prev_time\n",
    "\n",
    "def find_periodic_lines_with_tags(soup,\\\n",
    "                                  tags = [{'label':'rider', 'value':'<a href=\"rider/'},\n",
    "                                          {'label':'time', 'value':'<span class=\"timelag\"'}], \n",
    "                                  limit=100):\n",
    "    \"\"\"\n",
    "    look for periodic line occurence containing certain tags (e.g. 'rider', 'timelag')\n",
    "    \"\"\"\n",
    "    ii = 0\n",
    "    \n",
    "    d_lines = {}\n",
    "    for tag in tags:\n",
    "        d_lines['start_'+tag['label']] = -1\n",
    "        d_lines['period_'+tag['label']] = -1\n",
    "\n",
    "    line_splitted = soup.find_all('td')\n",
    "\n",
    "    for ii, l in enumerate(line_splitted[:limit]):\n",
    "        for tag in tags:\n",
    "            if len(str(l).split(tag['value']))>1:\n",
    "                if d_lines['start_'+tag['label']]==-1:\n",
    "                    d_lines['start_'+tag['label']] = ii\n",
    "                elif d_lines['period_'+tag['label']]==-1:\n",
    "                    d_lines['period_'+tag['label']] = ii-d_lines['start_'+tag['label']]\n",
    "                else:\n",
    "                    if ((ii-d_lines['start_'+tag['label']])%d_lines['period_'+tag['label']])>0:\n",
    "                        print((ii-d_lines['start_'+tag['label']])%d_lines['period_'+tag['label']])\n",
    "                        print('the entries do not seem periodic')\n",
    "    \n",
    "    output = {}\n",
    "    for tag in tags:\n",
    "        output['lines_'+tag['label']] = np.arange(len(line_splitted))[d_lines['start_'+tag['label']]::d_lines['period_'+tag['label']]]\n",
    "\n",
    "    return output\n",
    "\n",
    "def scrape_stage_details(stage_soup):\n",
    "    \"\"\"\n",
    "\n",
    "    \"\"\"\n",
    "    line_splitted = stage_soup.find_all('td')\n",
    "\n",
    "    stage = {}\n",
    "    for ll in stage_soup.find_all('span'):\n",
    "        year = find_value(str(ll), '<span class=\"year\">', '</span>')\n",
    "        if year!='':\n",
    "            stage['stage_year'] = int(year)\n",
    "        # edition = find_value(str(ll), '<span class=\"editionNr\">', '</span>')\n",
    "        stage_detail = find_value(str(ll), '<span class=\"blue\">Stage ', '</span>')\n",
    "        itt, ttt = stage_detail.split('(ITT)'), stage_detail.split('(TTT)')\n",
    "        if len(itt)>1:\n",
    "            stage['stage_number'] = int(itt[0])\n",
    "            stage['stage_type'] = 'individual-time-trial'\n",
    "        elif len(ttt)>1:\n",
    "            stage['stage_number'] = int(ttt[0])\n",
    "            stage['stage_type'] = 'team-time-trial'\n",
    "        elif stage_detail!='':\n",
    "            stage['stage_number'] = int(stage_detail)\n",
    "            stage['stage_type'] = 'regular-stage'\n",
    "\n",
    "        start_location = find_value(str(ll), '<span class=\"red\">', '  › ')\n",
    "        if start_location!='':\n",
    "            stage['stage_start_location'] = start_location\n",
    "        end_location = find_value(str(ll), ' ›  ',  '  </span>')\n",
    "        if end_location!='':\n",
    "            stage['stage_end_location'] = end_location\n",
    "        distance = find_value(str(ll), '<span class=\"red distance\">(',  'k)</span>')\n",
    "        if distance!='':\n",
    "            stage['distance_km'] = float(distance)\n",
    "\n",
    "    return stage\n",
    "\n",
    "def scrape_stage_results(results_soup, results_lines):\n",
    "    \"\"\"\n",
    "\n",
    "    \"\"\"\n",
    "    line_splitted = results_soup.find_all('td')\n",
    "\n",
    "    rank=1\n",
    "    prev_time = 0\n",
    "    results = {'rider_rank':[],\n",
    "               'rider_id':[],\n",
    "               'rider_name':[],\n",
    "               'rider_nationality':[],\n",
    "               'rider_stage_time_seconds':[]}\n",
    "\n",
    "    for i1, i2 in zip(results_lines['lines_rider'], results_lines['lines_time']):\n",
    "        results['rider_id'].append(find_value(str(line_splitted[i1]), '<a href=\\\"rider/', '\\\"'))\n",
    "        results['rider_name'].append(find_value(str(line_splitted[i1]), '<span class=\"uppercase\">', '</a><span').replace('</span>', ''))\n",
    "        results['rider_nationality'].append(find_value(str(line_splitted[i1]), '<td><span class=\"flag'))\n",
    "        time_string = find_value(str(line_splitted[i2]), '<span class=\"timeff\">', '</span>')\n",
    "        time = compute_time(time_string, prev_time)\n",
    "        results['rider_stage_time_seconds'].append(time)\n",
    "        results['rider_rank'].append(rank)\n",
    "        prev_time = time\n",
    "        rank+=1\n",
    "    return results\n",
    "\n",
    "\n",
    "results_soup, stage_soup = make_soup(\"https://www.procyclingstats.com/race/giro-d-italia/1999/stage-1\")\n",
    "results_lines = find_periodic_lines_with_tags(results_soup)\n",
    "results = scrape_stage_results(results_soup, results_lines)\n"
   ]
  },
  {
   "cell_type": "code",
   "execution_count": 449,
   "metadata": {
    "autoscroll": false,
    "collapsed": false,
    "ein.hycell": false,
    "ein.tags": "worksheet-0",
    "slideshow": {
     "slide_type": "-"
    }
   },
   "outputs": [
    {
     "name": "stdout",
     "output_type": "stream",
     "text": [
      "{'stage_year': 1999, 'stage_number': 1, 'stage_type': 'regular-stage', 'stage_start_location': 'Agrigento', 'stage_end_location': 'Modica', 'distance_km': 175.0}\n"
     ]
    },
    {
     "name": "stdout",
     "output_type": "stream",
     "text": [
      "{'stage_year': 1999, 'stage_number': 2, 'stage_type': 'regular-stage', 'stage_start_location': 'Noto', 'stage_end_location': 'Catania', 'distance_km': 133.0}\n"
     ]
    },
    {
     "name": "stdout",
     "output_type": "stream",
     "text": [
      "{'stage_year': 1999, 'stage_number': 3, 'stage_type': 'regular-stage', 'stage_start_location': 'Catania', 'stage_end_location': 'Messina', 'distance_km': 176.0}\n"
     ]
    },
    {
     "name": "stdout",
     "output_type": "stream",
     "text": [
      "{'stage_year': 1999, 'stage_number': 4, 'stage_type': 'regular-stage', 'stage_start_location': 'Vibo Valentia', 'stage_end_location': 'Terme Luigiane', 'distance_km': 186.0}\n"
     ]
    },
    {
     "name": "stdout",
     "output_type": "stream",
     "text": [
      "{'stage_year': 1999, 'stage_number': 5, 'stage_type': 'regular-stage', 'stage_start_location': 'Terme Luigiane', 'stage_end_location': 'Monte Sirino', 'distance_km': 147.0}\n"
     ]
    },
    {
     "name": "stdout",
     "output_type": "stream",
     "text": [
      "{'stage_year': 1999, 'stage_number': 6, 'stage_type': 'regular-stage', 'stage_start_location': 'Lauria', 'stage_end_location': 'Foggia', 'distance_km': 257.0}\n"
     ]
    },
    {
     "name": "stdout",
     "output_type": "stream",
     "text": [
      "{'stage_year': 1999, 'stage_number': 7, 'stage_type': 'regular-stage', 'stage_start_location': 'Foggia', 'stage_end_location': 'Lanciano', 'distance_km': 153.0}\n"
     ]
    },
    {
     "name": "stdout",
     "output_type": "stream",
     "text": [
      "{'stage_year': 1999, 'stage_number': 8, 'stage_type': 'regular-stage', 'stage_start_location': 'Pescara', 'stage_end_location': \"Gran Sasso d'italia\", 'distance_km': 253.0}\n"
     ]
    },
    {
     "name": "stdout",
     "output_type": "stream",
     "text": [
      "{'stage_year': 1999, 'stage_number': 9, 'stage_type': 'individual-time-trial', 'stage_start_location': 'Ancona', 'stage_end_location': 'Ancona', 'distance_km': 32.0}\n"
     ]
    },
    {
     "name": "stdout",
     "output_type": "stream",
     "text": [
      "{'stage_year': 1999, 'stage_number': 10, 'stage_type': 'regular-stage', 'stage_start_location': 'Ancona', 'stage_end_location': 'Sansepolcro', 'distance_km': 189.0}\n"
     ]
    },
    {
     "name": "stdout",
     "output_type": "stream",
     "text": [
      "{'stage_year': 1999, 'stage_number': 11, 'stage_type': 'regular-stage', 'stage_start_location': 'Sansepolcro', 'stage_end_location': 'Cesenatico', 'distance_km': 125.0}\n"
     ]
    },
    {
     "name": "stdout",
     "output_type": "stream",
     "text": [
      "{'stage_year': 1999, 'stage_number': 12, 'stage_type': 'regular-stage', 'stage_start_location': 'Cesenatico', 'stage_end_location': 'Sassuolo', 'distance_km': 168.0}\n"
     ]
    },
    {
     "name": "stdout",
     "output_type": "stream",
     "text": [
      "{'stage_year': 1999, 'stage_number': 13, 'stage_type': 'regular-stage', 'stage_start_location': 'Sassuolo', 'stage_end_location': 'Rapallo', 'distance_km': 243.0}\n"
     ]
    },
    {
     "name": "stdout",
     "output_type": "stream",
     "text": [
      "{'stage_year': 1999, 'stage_number': 14, 'stage_type': 'regular-stage', 'stage_start_location': 'Bra', 'stage_end_location': 'Borgo San Dalmazzo', 'distance_km': 187.0}\n"
     ]
    },
    {
     "name": "stdout",
     "output_type": "stream",
     "text": [
      "{'stage_year': 1999, 'stage_number': 15, 'stage_type': 'regular-stage', 'stage_start_location': 'Racconigi', 'stage_end_location': 'Oropa', 'distance_km': 143.0}\n"
     ]
    },
    {
     "name": "stdout",
     "output_type": "stream",
     "text": [
      "{'stage_year': 1999, 'stage_number': 16, 'stage_type': 'regular-stage', 'stage_start_location': 'Biella', 'stage_end_location': 'Lumezzane', 'distance_km': 232.0}\n"
     ]
    },
    {
     "name": "stdout",
     "output_type": "stream",
     "text": [
      "{'stage_year': 1999, 'stage_number': 17, 'stage_type': 'regular-stage', 'stage_start_location': 'Lumezzane', 'stage_end_location': 'Castelfranco Veneto', 'distance_km': 212.0}\n"
     ]
    },
    {
     "name": "stdout",
     "output_type": "stream",
     "text": [
      "{'stage_year': 1999, 'stage_number': 18, 'stage_type': 'individual-time-trial', 'stage_start_location': 'Treviso', 'stage_end_location': 'Treviso', 'distance_km': 45.0}\n"
     ]
    },
    {
     "name": "stdout",
     "output_type": "stream",
     "text": [
      "{'stage_year': 1999, 'stage_number': 19, 'stage_type': 'regular-stage', 'stage_start_location': 'Castelfranco Veneto', 'stage_end_location': 'Alpe di Pampeago', 'distance_km': 166.0}\n"
     ]
    },
    {
     "name": "stdout",
     "output_type": "stream",
     "text": [
      "{'stage_year': 1999, 'stage_number': 20, 'stage_type': 'regular-stage', 'stage_start_location': 'Predazzo', 'stage_end_location': 'Madonna di Campiglio', 'distance_km': 175.0}\n"
     ]
    },
    {
     "name": "stdout",
     "output_type": "stream",
     "text": [
      "{'stage_year': 1999, 'stage_number': 21, 'stage_type': 'regular-stage', 'stage_start_location': 'Madonna di Campiglio', 'stage_end_location': 'Aprica', 'distance_km': 190.0}\n"
     ]
    }
   ],
   "source": [
    "\n",
    "for stage in range(1,22):\n",
    "    results_soup, stage_soup = make_soup(\"https://www.procyclingstats.com/race/giro-d-italia/1999/stage-%s\"%stage)\n",
    "    results_lines = find_periodic_lines_with_tags(results_soup)\n",
    "    print(scrape_stage_details(stage_soup))"
   ]
  },
  {
   "cell_type": "code",
   "execution_count": 309,
   "metadata": {
    "autoscroll": false,
    "collapsed": false,
    "ein.hycell": false,
    "ein.tags": "worksheet-0",
    "slideshow": {
     "slide_type": "-"
    }
   },
   "outputs": [
    {
     "name": "stdout",
     "output_type": "stream",
     "text": [
      "[   4   13   22   31   40   49   58   67   76   85   94  103  112  121\n",
      "  130  139  148  157  166  175  184  193  202  211  220  229  238  247\n",
      "  256  265  274  283  292  301  310  319  328  337  346  355  364  373\n",
      "  382  391  400  409  418  427  436  445  454  463  472  481  490  499\n",
      "  508  517  526  535  544  553  562  571  580  589  598  607  616  625\n",
      "  634  643  652  661  670  679  688  697  706  715  724  733  742  751\n",
      "  760  769  778  787  796  805  814  823  832  841  850  859  868  877\n",
      "  886  895  904  913  922  931  940  949  958  967  976  985  994 1003\n",
      " 1012 1021 1030 1039 1048 1057 1066 1075 1084 1093 1102 1111 1120 1129\n",
      " 1138 1147 1156 1165 1174 1183 1192 1201 1210 1219 1228]\n"
     ]
    }
   ],
   "source": [
    "print(entries['rider_lines'])"
   ]
  },
  {
   "cell_type": "code",
   "execution_count": 302,
   "metadata": {
    "autoscroll": false,
    "collapsed": false,
    "ein.hycell": false,
    "ein.tags": "worksheet-0",
    "slideshow": {
     "slide_type": "-"
    }
   },
   "outputs": [
    {
     "data": {
      "text/plain": [
       "1233"
      ]
     },
     "execution_count": 302,
     "metadata": {},
     "output_type": "execute_result"
    }
   ],
   "source": [
    "len(soup.find_all('td'))"
   ]
  },
  {
   "cell_type": "code",
   "execution_count": 294,
   "metadata": {
    "autoscroll": false,
    "collapsed": false,
    "ein.hycell": false,
    "ein.tags": "worksheet-0",
    "slideshow": {
     "slide_type": "-"
    }
   },
   "outputs": [
    {
     "name": "stdout",
     "output_type": "stream",
     "text": [
      "5:32:20\n",
      "0:24\n",
      "0:27\n"
     ]
    }
   ],
   "source": [
    "for t in soup.find_all('td')[periodicity['first_time_line']::periodicity['period_time_line']][:3]:\n",
    "    print(find_value(str(t), '<span class=\"timeff\">', '</span>'))"
   ]
  },
  {
   "cell_type": "code",
   "execution_count": 71,
   "metadata": {
    "autoscroll": false,
    "collapsed": false,
    "ein.hycell": false,
    "ein.tags": "worksheet-0",
    "slideshow": {
     "slide_type": "-"
    }
   },
   "outputs": [],
   "source": [
    "BeautifulSoup?"
   ]
  },
  {
   "cell_type": "code",
   "execution_count": 2,
   "metadata": {
    "autoscroll": false,
    "collapsed": false,
    "ein.hycell": false,
    "ein.tags": "worksheet-0",
    "slideshow": {
     "slide_type": "-"
    }
   },
   "outputs": [
    {
     "data": {
      "text/plain": [
       "'▼2195  Gesink RobertRabobank ProTeam\\xa024R'"
      ]
     },
     "execution_count": 2,
     "metadata": {},
     "output_type": "execute_result"
    }
   ],
   "source": [
    "str(soup.text.split('212927')[1][:40])"
   ]
  },
  {
   "cell_type": "code",
   "execution_count": 26,
   "metadata": {
    "autoscroll": false,
    "collapsed": false,
    "ein.hycell": false,
    "ein.tags": "worksheet-0",
    "slideshow": {
     "slide_type": "-"
    }
   },
   "outputs": [],
   "source": [
    "x =soup.find_all(id='1')"
   ]
  },
  {
   "cell_type": "code",
   "execution_count": 48,
   "metadata": {
    "autoscroll": false,
    "collapsed": false,
    "ein.hycell": false,
    "ein.tags": "worksheet-0",
    "slideshow": {
     "slide_type": "-"
    }
   },
   "outputs": [
    {
     "name": "stdout",
     "output_type": "stream",
     "text": [
      "161  Sánchez Luis Le\n",
      "91  Sastre CarlosCer\n",
      "118  Rogers MichaelT\n",
      "58  Vansummeren Joha\n",
      "93  Gustov Volodymyr\n",
      "179  Pauriol RémiCof\n",
      "119  Siutsou Kanstan\n",
      "83  Champion Dimitri\n",
      "61 Le Mével Christop\n",
      "103 de Greef Francis\n",
      "61  Sánchez Luis Leó\n",
      "4  Klöden AndreasRad\n",
      "7  Löfkvist ThomasSk\n",
      "7+1:15:52155  Gautie\n",
      "4  Hesjedal RyderTea\n",
      "188  Velasco IvánEus\n",
      "151  Voeckler Thomas\n",
      "1  Roche NicolasAG2R\n",
      "178  Monier DamienCo\n",
      "156  Rolland PierreB\n",
      "21  Evans CadelBMC R\n",
      "12  Benítez José Alb\n"
     ]
    }
   ],
   "source": [
    "i, s = 1, ['','']\n",
    "while len(s)>1:\n",
    "    s = soup.text.split('▼%i'%i)\n",
    "    i+=1\n",
    "    if len(s)>1:\n",
    "        print(s[1][:20])"
   ]
  },
  {
   "cell_type": "code",
   "execution_count": 40,
   "metadata": {
    "autoscroll": false,
    "collapsed": false,
    "ein.hycell": false,
    "ein.tags": "worksheet-0",
    "slideshow": {
     "slide_type": "-"
    }
   },
   "outputs": [
    {
     "data": {
      "text/plain": [
       "7871"
      ]
     },
     "execution_count": 40,
     "metadata": {},
     "output_type": "execute_result"
    }
   ],
   "source": [
    "i"
   ]
  },
  {
   "cell_type": "code",
   "execution_count": null,
   "metadata": {
    "autoscroll": false,
    "collapsed": false,
    "ein.hycell": false,
    "ein.tags": "worksheet-0",
    "slideshow": {
     "slide_type": "-"
    }
   },
   "outputs": [],
   "source": []
  }
 ],
 "metadata": {
  "kernelspec": {
   "argv": [
    "/Users/yann/anaconda3/bin/python",
    "-m",
    "ipykernel_launcher",
    "-f",
    "{connection_file}"
   ],
   "display_name": "Python 3",
   "env": null,
   "interrupt_mode": "signal",
   "language": "python",
   "metadata": null,
   "name": "python3"
  },
  "language_info": {
   "codemirror_mode": {
    "name": "ipython",
    "version": 3
   },
   "file_extension": ".py",
   "mimetype": "text/x-python",
   "name": "python",
   "nbconvert_exporter": "python",
   "pygments_lexer": "ipython3",
   "version": "3.7.3"
  },
  "name": "ProCyclingStats.ipynb"
 },
 "nbformat": 4,
 "nbformat_minor": 2
}
