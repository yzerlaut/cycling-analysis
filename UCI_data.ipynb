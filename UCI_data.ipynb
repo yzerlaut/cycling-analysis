{
 "cells": [
  {
   "cell_type": "code",
   "execution_count": 77,
   "metadata": {},
   "outputs": [],
   "source": [
    "import requests, shutil\n",
    "from bs4 import BeautifulSoup\n",
    "\n",
    "def get_data(session, url):\n",
    "    result = session.get(url)\n",
    "    return BeautifulSoup(result.content,\"html.parser\")\n",
    "\n",
    "def post_data(session, url, data):\n",
    "    result = session.post(url, data=data, headers=dict(referer = LOGIN_URL))\n",
    "    return BeautifulSoup(result.content,\"html.parser\")\n",
    "\n",
    "def get_verif_token(soup):\n",
    "    \"\"\"\n",
    "    Gets the Verification token used to submit forms\n",
    "    \"\"\"\n",
    "    return soup.find(\"input\", {'name': '__RequestVerificationToken'}).get('value')\n",
    "\n",
    "\n",
    "vuelta = {'disciplineId':10,\n",
    "          'eventId':185375,\n",
    "          'countryId':0}\n",
    "\n",
    "url0 = r'https://dataride.uci.ch/Results/iframe/CompetitionResults/57050?disciplineId=10'\n",
    "url1 = r'https://dataride.uci.ch/Results/iframe/EventResults/185375?competitionId=57051&disciplineId=10'\n",
    "url2 = r'https://dataride.uci.ch/Results/iframe/ExportResult/'\n",
    "\n",
    "s = requests.Session()\n",
    "\n",
    "#GET request  \n",
    "r = s.get(url1)\n",
    "soup = get_data(s, url1)\n",
    "\n",
    "params = vuelta.copy()\n",
    "params['__RequestVerificationToken'] = get_verif_token(soup)\n",
    "r = s.post(url2, data=params)\n",
    "with open(\"test.xlsx\", 'wb') as f:\n",
    "    f.write(r.content) "
   ]
  },
  {
   "cell_type": "code",
   "execution_count": 126,
   "metadata": {},
   "outputs": [
    {
     "data": {
      "text/plain": [
       "b''"
      ]
     },
     "execution_count": 126,
     "metadata": {},
     "output_type": "execute_result"
    }
   ],
   "source": [
    "tour = {'disciplineId':10,\n",
    "        'competitionID':57050,\n",
    "        'eventId':185375,\n",
    "        'countryId':0}\n",
    "\n",
    "url0 = r'https://dataride.uci.ch/Results/iframe/CompetitionResults/57050?disciplineId=10'\n",
    "url1 = r'https://dataride.uci.ch/Results/iframe/EventResults/185375?competitionId=57051&disciplineId=10'\n",
    "url2 = r'https://dataride.uci.ch/Results/iframe/ExportResult/'\n",
    "\n",
    "s = requests.Session()\n",
    "\n",
    "#GET request  \n",
    "r = s.get(url0, params={'disciplineID':10})\n",
    "soup = BeautifulSoup(r.content, 'html.parser')\n",
    "#print(soup.findAll('link'))\n",
    "i0 = r.text.find('Results/Telerik')\n",
    "#i0 = r.text.find('Webresource.axd')\n",
    "i1 = r.text[i0:].find('\\\"')\n",
    "r2 = s.get(r'https://dataride.uci.ch/Results/iframe/'+r.text[i0:i0+i1])\n",
    "r2.content"
   ]
  },
  {
   "cell_type": "code",
   "execution_count": 124,
   "metadata": {},
   "outputs": [
    {
     "data": {
      "text/plain": [
       "<Response [200]>"
      ]
     },
     "execution_count": 124,
     "metadata": {},
     "output_type": "execute_result"
    }
   ],
   "source": [
    "r2"
   ]
  },
  {
   "cell_type": "code",
   "execution_count": null,
   "metadata": {},
   "outputs": [],
   "source": [
    "\n",
    "text1 = r.text\n",
    "#startstr = '<input name=\"__RequestVerificationToken\" type=\"hidden\" value=\"'\n",
    "startstr = 'Token'\n",
    "start_ind = text1.find(startstr)+len(startstr)\n",
    "end_ind = start_ind+100 #text1.find('\"',start_ind)\n",
    "auth_string = text1[start_ind-100:end_ind+100]\n",
    "print(start_ind, auth_string)\n",
    "#print(r.text.split('Verification')[1:])\n",
    "\n",
    "#POST request\n",
    "#payload = {'Plate':'x', 'PlateStateProv':'VA',\"submit\":\"Search\",\n",
    "#           \"__RequestVerificationToken\":auth_string,\"validation-summary-valid\":\"true\"}\n",
    "\n",
    "#post = s.post(url2, headers=user_agent, data=payload)\n",
    "#source_code = post.text"
   ]
  }
 ],
 "metadata": {
  "kernelspec": {
   "display_name": "Python 3",
   "language": "python",
   "name": "python3"
  },
  "language_info": {
   "codemirror_mode": {
    "name": "ipython",
    "version": 3
   },
   "file_extension": ".py",
   "mimetype": "text/x-python",
   "name": "python",
   "nbconvert_exporter": "python",
   "pygments_lexer": "ipython3",
   "version": "3.7.3"
  }
 },
 "nbformat": 4,
 "nbformat_minor": 2
}
