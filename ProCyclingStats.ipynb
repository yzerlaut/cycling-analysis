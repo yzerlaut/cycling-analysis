{
 "cells": [
  {
   "cell_type": "code",
   "execution_count": 91,
   "metadata": {},
   "outputs": [],
   "source": [
    "from bs4 import BeautifulSoup\n",
    "import requests\n",
    "\n",
    "url = \"https://www.procyclingstats.com/race/tour-de-france/2010/stage-16\"\n",
    "r = requests.get(url)\n",
    "identifier_key = '<div class=\\\"resultCont \\\"'\n",
    "i0 = r.text.find(identifier_key)\n",
    "soup = BeautifulSoup(r.text[i0:], 'html.parser')"
   ]
  },
  {
   "cell_type": "code",
   "execution_count": 106,
   "metadata": {},
   "outputs": [
    {
     "data": {
      "text/plain": [
       "<tr data-id=\"2040\" data-line=\"1\" data-nation=\"es\"><td>3</td></tr>"
      ]
     },
     "execution_count": 106,
     "metadata": {},
     "output_type": "execute_result"
    }
   ],
   "source": [
    "soup.find_all('tr', recursive=True)[3]"
   ]
  },
  {
   "cell_type": "code",
   "execution_count": 104,
   "metadata": {},
   "outputs": [
    {
     "data": {
      "text/plain": [
       "<td class=\"cu600\"><a href=\"team/bbox-bouygues-telecom-2010\">Bbox Bouygues Telecom</a></td>"
      ]
     },
     "execution_count": 104,
     "metadata": {},
     "output_type": "execute_result"
    }
   ],
   "source": [
    "soup.find_all('td', class_='cu600', recursive=True)[0]"
   ]
  },
  {
   "cell_type": "code",
   "execution_count": 71,
   "metadata": {},
   "outputs": [],
   "source": [
    "BeautifulSoup?"
   ]
  },
  {
   "cell_type": "code",
   "execution_count": 2,
   "metadata": {},
   "outputs": [
    {
     "data": {
      "text/plain": [
       "'▼2195  Gesink RobertRabobank ProTeam\\xa024R'"
      ]
     },
     "execution_count": 2,
     "metadata": {},
     "output_type": "execute_result"
    }
   ],
   "source": [
    "str(soup.text.split('212927')[1][:40])"
   ]
  },
  {
   "cell_type": "code",
   "execution_count": 26,
   "metadata": {},
   "outputs": [],
   "source": [
    "x =soup.find_all(id='1')"
   ]
  },
  {
   "cell_type": "code",
   "execution_count": 48,
   "metadata": {},
   "outputs": [
    {
     "name": "stdout",
     "output_type": "stream",
     "text": [
      "161  Sánchez Luis Le\n",
      "91  Sastre CarlosCer\n",
      "118  Rogers MichaelT\n",
      "58  Vansummeren Joha\n",
      "93  Gustov Volodymyr\n",
      "179  Pauriol RémiCof\n",
      "119  Siutsou Kanstan\n",
      "83  Champion Dimitri\n",
      "61 Le Mével Christop\n",
      "103 de Greef Francis\n",
      "61  Sánchez Luis Leó\n",
      "4  Klöden AndreasRad\n",
      "7  Löfkvist ThomasSk\n",
      "7+1:15:52155  Gautie\n",
      "4  Hesjedal RyderTea\n",
      "188  Velasco IvánEus\n",
      "151  Voeckler Thomas\n",
      "1  Roche NicolasAG2R\n",
      "178  Monier DamienCo\n",
      "156  Rolland PierreB\n",
      "21  Evans CadelBMC R\n",
      "12  Benítez José Alb\n"
     ]
    }
   ],
   "source": [
    "i, s = 1, ['','']\n",
    "while len(s)>1:\n",
    "    s = soup.text.split('▼%i'%i)\n",
    "    i+=1\n",
    "    if len(s)>1:\n",
    "        print(s[1][:20])"
   ]
  },
  {
   "cell_type": "code",
   "execution_count": 40,
   "metadata": {},
   "outputs": [
    {
     "data": {
      "text/plain": [
       "7871"
      ]
     },
     "execution_count": 40,
     "metadata": {},
     "output_type": "execute_result"
    }
   ],
   "source": [
    "i"
   ]
  },
  {
   "cell_type": "code",
   "execution_count": null,
   "metadata": {},
   "outputs": [],
   "source": []
  }
 ],
 "metadata": {
  "kernelspec": {
   "display_name": "Python 3",
   "language": "python",
   "name": "python3"
  },
  "language_info": {
   "codemirror_mode": {
    "name": "ipython",
    "version": 3
   },
   "file_extension": ".py",
   "mimetype": "text/x-python",
   "name": "python",
   "nbconvert_exporter": "python",
   "pygments_lexer": "ipython3",
   "version": "3.7.3"
  }
 },
 "nbformat": 4,
 "nbformat_minor": 2
}
